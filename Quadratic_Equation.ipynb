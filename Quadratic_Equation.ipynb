{
  "nbformat": 4,
  "nbformat_minor": 0,
  "metadata": {
    "colab": {
      "provenance": []
    },
    "kernelspec": {
      "name": "python3",
      "display_name": "Python 3"
    },
    "language_info": {
      "name": "python"
    }
  },
  "cells": [
    {
      "cell_type": "code",
      "execution_count": 4,
      "metadata": {
        "colab": {
          "base_uri": "https://localhost:8080/"
        },
        "id": "GboG_uClSvbu",
        "outputId": "0978eab6-98c8-4619-d2eb-0275ed584fa6"
      },
      "outputs": [
        {
          "output_type": "stream",
          "name": "stdout",
          "text": [
            "Input a quadratic equation to solve! First enter a: 1\n",
            "Now enter b: -3\n",
            "Finally enter c: 2\n",
            "The solutions for the quadratic function you enterered are: (2.0, 1.0)\n"
          ]
        }
      ],
      "source": [
        "def quad_func(a, b, c):\n",
        "  discriminant = b**2 - 4*a*c\n",
        "  if discriminant > 0:\n",
        "    x1 = (-b + discriminant**0.5) / (2*a)\n",
        "    x2 = (-b - discriminant**0.5) / (2*a)\n",
        "    return x1, x2\n",
        "  elif discriminant == 0:\n",
        "    x = -b / (2*a)\n",
        "    return x\n",
        "  else:\n",
        "    real = -b / (2*a)\n",
        "    imag = (-discriminant)**0.5 / (2*a)\n",
        "    x1 = complex(real, imag)\n",
        "    x2 = complex(real, -imag)\n",
        "    return x1, x2\n",
        "\n",
        "a = float(input(\"Input a quadratic equation to solve! First enter a: \"))\n",
        "b = float(input(\"Now enter b: \"))\n",
        "c = float(input(\"Finally enter c: \"))\n",
        "print(\"The solutions for the quadratic function you enterered are:\", quad_func(a, b, c))"
      ]
    }
  ]
}